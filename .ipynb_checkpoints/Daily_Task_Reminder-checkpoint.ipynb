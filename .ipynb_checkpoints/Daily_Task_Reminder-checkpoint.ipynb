{
 "cells": [
  {
   "cell_type": "code",
   "execution_count": 178,
   "metadata": {},
   "outputs": [
    {
     "data": {
      "text/plain": [
       "'/Users/ismathim/Desktop/automated/Daily_Planner.pdf'"
      ]
     },
     "execution_count": 178,
     "metadata": {},
     "output_type": "execute_result"
    }
   ],
   "source": [
    "import convertapi\n",
    "convertapi.api_secret = 'dl6ysNyeluwoBxM7'\n",
    "result = convertapi.convert(\n",
    "    'pdf',\n",
    "    { 'File': 'Daily_Planner.pages' },\n",
    "    from_format = 'pages'\n",
    ")\n",
    "result.file.save(\"/Users/ismathim/Desktop/automated\")\n",
    "            "
   ]
  },
  {
   "cell_type": "code",
   "execution_count": 179,
   "metadata": {},
   "outputs": [],
   "source": [
    "import PyPDF2\n",
    "pdfFileObj=open(\"/Users/ismathim/Desktop/automated/Daily_Planner.pdf\",\"rb\")\n",
    "pdfReader=PyPDF2.PdfFileReader(pdfFileObj)\n",
    "total_page=pdfReader.numPages"
   ]
  },
  {
   "cell_type": "code",
   "execution_count": 180,
   "metadata": {},
   "outputs": [
    {
     "name": "stdout",
     "output_type": "stream",
     "text": [
      "Table: (Which contains the main thing)\n",
      "!Time SlotsTasks \n",
      "4:00-5:00 amBrushing the teeth5:00-6:00 amTaking Bath\n",
      "6:00-7:00 amTaking Bath\n",
      "7:00-8:00 amTaking Bath. \n",
      "8:00-9:00 amStudying. 9:00-10:00 amStudying10:00-11:00 amStudying11:00-12:00 amStudying12:00-1:00 pmStudying1:00-2:00 pmStudying 2:00-3:00 pmTake rest, Watch The o\n",
      "\"ce3:00-4:00 pmTake rest, Watch The o\n",
      "\"ce 4:00-5:00 pmHelp Mom5:00-6:00 pmHelp Mom6:00-7:00 pmHelp Mom7:00-8:00 pmHave dinner8:00-9:00 pmStudy 9:00-10:00 pmStudy 10:00-11:00 pmStudy 11:00-12:00 pmStudy 12:00-01:00 pmStudy "
     ]
    }
   ],
   "source": [
    "for value in range(0,total_page):\n",
    "    l=[]\n",
    "    the_recent_page=value\n",
    "    if (the_recent_page%2!=0):\n",
    "        pdfObj=pdfReader.getPage(the_recent_page)\n",
    "        container=pdfObj.extractText()\n",
    "        for line in container: \n",
    "            l.append(line)\n",
    "        for value in range (0,len(l)):\n",
    "            print(l[value],end=\"\")\n",
    "            \n",
    "# print(l,)\n",
    "\n",
    "# l_new=[]"
   ]
  },
  {
   "cell_type": "code",
   "execution_count": null,
   "metadata": {},
   "outputs": [],
   "source": []
  },
  {
   "cell_type": "code",
   "execution_count": null,
   "metadata": {},
   "outputs": [],
   "source": []
  }
 ],
 "metadata": {
  "kernelspec": {
   "display_name": "Python 3",
   "language": "python",
   "name": "python3"
  },
  "language_info": {
   "codemirror_mode": {
    "name": "ipython",
    "version": 3
   },
   "file_extension": ".py",
   "mimetype": "text/x-python",
   "name": "python",
   "nbconvert_exporter": "python",
   "pygments_lexer": "ipython3",
   "version": "3.8.1"
  }
 },
 "nbformat": 4,
 "nbformat_minor": 4
}
